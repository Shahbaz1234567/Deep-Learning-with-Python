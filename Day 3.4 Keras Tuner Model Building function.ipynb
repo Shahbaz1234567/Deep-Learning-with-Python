{
 "cells": [
  {
   "cell_type": "code",
   "execution_count": 3,
   "id": "ab6239cf",
   "metadata": {},
   "outputs": [],
   "source": [
    "!pip install keras_tuner -q"
   ]
  },
  {
   "cell_type": "code",
   "execution_count": 2,
   "id": "32e4b231",
   "metadata": {},
   "outputs": [],
   "source": [
    "from tensorflow import keras\n",
    "from tensorflow.keras import layersyers"
   ]
  },
  {
   "cell_type": "code",
   "execution_count": 7,
   "id": "71059b9d",
   "metadata": {},
   "outputs": [],
   "source": [
    "def build_model(hp):\n",
    "    units=hp.Int(name='units',min_value=16,max_value=64,step=16)\n",
    "    model=keras.Sequential([\n",
    "    layers.Dense(units,activation='relu'),\n",
    "    layers.Dense(10,activation='softmax')\n",
    "    ])\n",
    "    optimizer=hp.Choice(name='optimizer',values=['adagrad','adam'])\n",
    "    model.compile(optimizer=optimizer,loss='sparse_categorical_crossentropy',metrics=['accuracy'])\n",
    "    return model"
   ]
  },
  {
   "cell_type": "markdown",
   "id": "46774685",
   "metadata": {},
   "source": [
    "# keras Tuner - HyperModel"
   ]
  },
  {
   "cell_type": "code",
   "execution_count": 9,
   "id": "4af458d9",
   "metadata": {},
   "outputs": [],
   "source": [
    "import keras_tuner as kt\n",
    "class SimpleMLP(kt.HyperModel):\n",
    "    def __init__(self,num_classes):\n",
    "        self.num_classes=num_classes\n",
    "\n",
    "    def build(self,hp):\n",
    "\n",
    "        units=hp.Int(name='units',min_value=16,max_value=64,step=16)\n",
    "        model=keras.Sequential([\n",
    "        layers.Dense(units,activation='relu'),\n",
    "        layers.Dense(self.num_classes,activation='softmax')\n",
    "        ])\n",
    "        optimizer=hp.Choice(name='optimizer',values=['adagrad','adam'])\n",
    "        model.compile(optimizer=optimizer,loss='sparse_categorical_crossentropy',metrics=['accuracy'])\n",
    "        return model\n",
    "\n",
    "hypermodel=SimpleMLP(num_classes=10)"
   ]
  },
  {
   "cell_type": "code",
   "execution_count": 10,
   "id": "a5c3c156",
   "metadata": {},
   "outputs": [],
   "source": [
    "tuner=kt.BayesianOptimization(build_model,objective='val_accuracy',max_trials=5,)"
   ]
  },
  {
   "cell_type": "code",
   "execution_count": 11,
   "id": "c5d65c63",
   "metadata": {},
   "outputs": [
    {
     "name": "stdout",
     "output_type": "stream",
     "text": [
      "Search space summary\n",
      "Default search space size: 2\n",
      "units (Int)\n",
      "{'default': None, 'conditions': [], 'min_value': 16, 'max_value': 64, 'step': 16, 'sampling': 'linear'}\n",
      "optimizer (Choice)\n",
      "{'default': 'adagrad', 'conditions': [], 'values': ['adagrad', 'adam'], 'ordered': False}\n"
     ]
    }
   ],
   "source": [
    "tuner.search_space_summary()"
   ]
  },
  {
   "cell_type": "markdown",
   "id": "246f7c95",
   "metadata": {},
   "source": [
    "# Model"
   ]
  },
  {
   "cell_type": "code",
   "execution_count": 12,
   "id": "f3e62e82",
   "metadata": {},
   "outputs": [
    {
     "name": "stdout",
     "output_type": "stream",
     "text": [
      "Trial 5 Complete [00h 00m 45s]\n",
      "val_accuracy: 0.9017999768257141\n",
      "\n",
      "Best val_accuracy So Far: 0.9725000262260437\n",
      "Total elapsed time: 00h 02m 32s\n"
     ]
    }
   ],
   "source": [
    "#load mnist dataset from keras\n",
    "\n",
    "(xtrain,ytrain),(xtest,ytest)=keras.datasets.mnist.load_data()\n",
    "xtrain=xtrain.reshape((-1,28*28)).astype('float32')/255\n",
    "xtest=xtest.reshape((-1,28*28)).astype('float32')/255\n",
    "xtrain_full=xtrain[:]\n",
    "ytrain_full=ytrain[:]\n",
    "num_val_samples=10000\n",
    "xtrain,xval=xtrain[:-num_val_samples],xtrain[-num_val_samples:]\n",
    "ytrain,yval=ytrain[:-num_val_samples],ytrain[-num_val_samples:]\n",
    "\n",
    "callbacks=[keras.callbacks.EarlyStopping(monitor='val_loss',patience=3),]\n",
    "\n",
    "tuner.search(xtrain,ytrain,batch_size=128,epochs=20,validation_data=(xval,yval),\n",
    " callbacks=callbacks,verbose=2)\n"
   ]
  },
  {
   "cell_type": "code",
   "execution_count": null,
   "id": "8981e2fd",
   "metadata": {},
   "outputs": [],
   "source": []
  }
 ],
 "metadata": {
  "kernelspec": {
   "display_name": "Python 3 (ipykernel)",
   "language": "python",
   "name": "python3"
  },
  "language_info": {
   "codemirror_mode": {
    "name": "ipython",
    "version": 3
   },
   "file_extension": ".py",
   "mimetype": "text/x-python",
   "name": "python",
   "nbconvert_exporter": "python",
   "pygments_lexer": "ipython3",
   "version": "3.11.5"
  }
 },
 "nbformat": 4,
 "nbformat_minor": 5
}
