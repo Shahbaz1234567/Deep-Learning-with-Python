{
 "cells": [
  {
   "cell_type": "code",
   "execution_count": 1,
   "id": "713d1cbe",
   "metadata": {},
   "outputs": [],
   "source": [
    "import keras\n",
    "from keras.models import Sequential\n",
    "from keras.layers import Dense,Dropout,Flatten\n",
    "from keras.layers import Conv2D,MaxPool2D\n",
    "from keras import backend as k"
   ]
  },
  {
   "cell_type": "code",
   "execution_count": 2,
   "id": "e55c38e1",
   "metadata": {},
   "outputs": [],
   "source": [
    "batch_size=128\n",
    "num_classes=10\n",
    "epochs=12"
   ]
  },
  {
   "cell_type": "code",
   "execution_count": 3,
   "id": "d19916f8",
   "metadata": {},
   "outputs": [],
   "source": [
    "#input image dimensions\n",
    "img_rows,img_cols=28,28"
   ]
  },
  {
   "cell_type": "code",
   "execution_count": 4,
   "id": "0b3047aa",
   "metadata": {},
   "outputs": [],
   "source": [
    "#load mnist dataset from keras\n",
    "from keras.datasets import mnist\n",
    "#download mnist data and split into train & test sets\n",
    "(xtrain,ytrain),(xtest,ytest)=mnist.load_data()"
   ]
  },
  {
   "cell_type": "code",
   "execution_count": 5,
   "id": "64b1977a",
   "metadata": {},
   "outputs": [
    {
     "name": "stdout",
     "output_type": "stream",
     "text": [
      "Training set images shape: (60000, 28, 28)\n",
      "Training set labels shape: (60000,)\n",
      "Test set images shape: (10000, 28, 28)\n",
      "Test set labels shape: (10000,)\n"
     ]
    }
   ],
   "source": [
    "print('Training set images shape: {}'.format(xtrain.shape))\n",
    "print('Training set labels shape: {}'.format(ytrain.shape))\n",
    "print('Test set images shape: {}'.format(xtest.shape))\n",
    "print('Test set labels shape: {}'.format(ytest.shape))"
   ]
  },
  {
   "cell_type": "code",
   "execution_count": 9,
   "id": "24f58493",
   "metadata": {},
   "outputs": [
    {
     "data": {
      "text/plain": [
       "<matplotlib.image.AxesImage at 0x16eaa4f8c50>"
      ]
     },
     "execution_count": 9,
     "metadata": {},
     "output_type": "execute_result"
    },
    {
     "data": {
      "image/png": "[encoded data removed]",
      "text/plain": [
       "<Figure size 640x480 with 1 Axes>"
      ]
     },
     "metadata": {},
     "output_type": "display_data"
    }
   ],
   "source": [
    "import matplotlib.pyplot as plt\n",
    "plt.imshow(xtrain[4])"
   ]
  },
  {
   "cell_type": "code",
   "execution_count": 10,
   "id": "18de0f1d",
   "metadata": {},
   "outputs": [
    {
     "data": {
      "text/plain": [
       "(28, 28)"
      ]
     },
     "execution_count": 10,
     "metadata": {},
     "output_type": "execute_result"
    }
   ],
   "source": [
    "xtrain[0].shape"
   ]
  },
  {
   "cell_type": "markdown",
   "id": "849176fb",
   "metadata": {},
   "source": [
    "# Data Pre-processing"
   ]
  },
  {
   "cell_type": "code",
   "execution_count": 11,
   "id": "9887d3a2",
   "metadata": {},
   "outputs": [
    {
     "name": "stdout",
     "output_type": "stream",
     "text": [
      "(60000, 28, 28, 1)\n",
      "(10000, 28, 28, 1)\n"
     ]
    }
   ],
   "source": [
    "#reshape data to fit model\n",
    "xtrain=xtrain.reshape(xtrain.shape[0],img_rows,img_cols,1)\n",
    "xtest=xtest.reshape(xtest.shape[0],img_rows,img_cols,1)\n",
    "\n",
    "print(xtrain.shape)\n",
    "print(xtest.shape)"
   ]
  },
  {
   "cell_type": "code",
   "execution_count": 12,
   "id": "936be859",
   "metadata": {},
   "outputs": [],
   "source": [
    "xtrain=xtrain.astype('float32')\n",
    "xtest=xtest.astype('float32')"
   ]
  },
  {
   "cell_type": "code",
   "execution_count": 13,
   "id": "558cd2b3",
   "metadata": {},
   "outputs": [],
   "source": [
    "xtrain/=255\n",
    "xtest/=255"
   ]
  },
  {
   "cell_type": "code",
   "execution_count": 14,
   "id": "31d35387",
   "metadata": {},
   "outputs": [
    {
     "name": "stdout",
     "output_type": "stream",
     "text": [
      "xtrain shape: (60000, 28, 28, 1)\n",
      "60000 train samples\n",
      "10000 test samples\n"
     ]
    }
   ],
   "source": [
    "print('xtrain shape:',xtrain.shape)\n",
    "print(xtrain.shape[0],'train samples')\n",
    "print(xtest.shape[0],'test samples')"
   ]
  },
  {
   "cell_type": "code",
   "execution_count": 15,
   "id": "fe9a0455",
   "metadata": {},
   "outputs": [],
   "source": [
    "#Convert class vectors to binary class matrices\n",
    "\n",
    "ytrain=keras.utils.to_categorical(ytrain)\n",
    "ytest=keras.utils.to_categorical(ytest)"
   ]
  },
  {
   "cell_type": "code",
   "execution_count": 16,
   "id": "560246d1",
   "metadata": {},
   "outputs": [
    {
     "data": {
      "text/plain": [
       "array([0., 0., 0., 0., 0., 1., 0., 0., 0., 0.], dtype=float32)"
      ]
     },
     "execution_count": 16,
     "metadata": {},
     "output_type": "execute_result"
    }
   ],
   "source": [
    "ytrain[0]"
   ]
  },
  {
   "cell_type": "markdown",
   "id": "fff46ef7",
   "metadata": {},
   "source": [
    "# Build CNN model"
   ]
  },
  {
   "cell_type": "code",
   "execution_count": 18,
   "id": "bf674667",
   "metadata": {},
   "outputs": [],
   "source": [
    "model=Sequential()\n",
    "#add model layers\n",
    "model.add(Conv2D(64,kernel_size=3,activation='relu',input_shape=(28,28,1)))\n",
    "model.add(Dropout(0.2))\n",
    "model.add(Conv2D(32,kernel_size=3,activation='relu'))\n",
    "model.add(MaxPool2D(pool_size=(2,2)))\n",
    "model.add(Flatten())\n",
    "#output layer\n",
    "model.add(Dense(10,activation='softmax'))"
   ]
  },
  {
   "cell_type": "code",
   "execution_count": 19,
   "id": "507fc404",
   "metadata": {},
   "outputs": [
    {
     "name": "stdout",
     "output_type": "stream",
     "text": [
      "Model: \"sequential\"\n",
      "_________________________________________________________________\n",
      " Layer (type)                Output Shape              Param #   \n",
      "=================================================================\n",
      " conv2d (Conv2D)             (None, 26, 26, 64)        640       \n",
      "                                                                 \n",
      " dropout (Dropout)           (None, 26, 26, 64)        0         \n",
      "                                                                 \n",
      " conv2d_1 (Conv2D)           (None, 24, 24, 32)        18464     \n",
      "                                                                 \n",
      " max_pooling2d (MaxPooling2  (None, 12, 12, 32)        0         \n",
      " D)                                                              \n",
      "                                                                 \n",
      " flatten (Flatten)           (None, 4608)              0         \n",
      "                                                                 \n",
      " dense (Dense)               (None, 10)                46090     \n",
      "                                                                 \n",
      "=================================================================\n",
      "Total params: 65194 (254.66 KB)\n",
      "Trainable params: 65194 (254.66 KB)\n",
      "Non-trainable params: 0 (0.00 Byte)\n",
      "_________________________________________________________________\n"
     ]
    }
   ],
   "source": [
    "model.summary()"
   ]
  },
  {
   "cell_type": "code",
   "execution_count": 20,
   "id": "f779f218",
   "metadata": {},
   "outputs": [],
   "source": [
    "#compile\n",
    "model.compile(optimizer=keras.optimizers.Adam(),loss=keras.losses.categorical_crossentropy,\n",
    " metrics=['accuracy'] )"
   ]
  },
  {
   "cell_type": "code",
   "execution_count": 21,
   "id": "4795b859",
   "metadata": {},
   "outputs": [
    {
     "name": "stdout",
     "output_type": "stream",
     "text": [
      "Epoch 1/5\n",
      "469/469 [==============================] - 151s 317ms/step - loss: 0.2485 - accuracy: 0.9262 - val_loss: 0.0794 - val_accuracy: 0.9768\n",
      "Epoch 2/5\n",
      "469/469 [==============================] - 146s 310ms/step - loss: 0.0773 - accuracy: 0.9767 - val_loss: 0.0519 - val_accuracy: 0.9837\n",
      "Epoch 3/5\n",
      "469/469 [==============================] - 144s 308ms/step - loss: 0.0546 - accuracy: 0.9833 - val_loss: 0.0469 - val_accuracy: 0.9840\n",
      "Epoch 4/5\n",
      "469/469 [==============================] - 145s 309ms/step - loss: 0.0442 - accuracy: 0.9867 - val_loss: 0.0514 - val_accuracy: 0.9835\n",
      "Epoch 5/5\n",
      "469/469 [==============================] - 144s 308ms/step - loss: 0.0368 - accuracy: 0.9885 - val_loss: 0.0406 - val_accuracy: 0.9872\n"
     ]
    }
   ],
   "source": [
    "result=model.fit(xtrain,ytrain,batch_size=batch_size,epochs=5,verbose=1,\n",
    " validation_data=(xtest,ytest))"
   ]
  },
  {
   "cell_type": "code",
   "execution_count": 22,
   "id": "4464fda0",
   "metadata": {},
   "outputs": [
    {
     "name": "stdout",
     "output_type": "stream",
     "text": [
      "Test Loss: 0.040625251829624176\n",
      "\n",
      "Test Accuracy: 0.9872000217437744\n"
     ]
    }
   ],
   "source": [
    "score=model.evaluate(xtest,ytest,verbose=0)\n",
    "print('Test Loss:',score[0])\n",
    "print()\n",
    "print('Test Accuracy:',score[1])"
   ]
  },
  {
   "cell_type": "code",
   "execution_count": 23,
   "id": "b18a5066",
   "metadata": {},
   "outputs": [
    {
     "data": {
      "text/plain": [
       "dict_keys(['loss', 'accuracy', 'val_loss', 'val_accuracy'])"
      ]
     },
     "execution_count": 23,
     "metadata": {},
     "output_type": "execute_result"
    }
   ],
   "source": [
    "result.history.keys()"
   ]
  },
  {
   "cell_type": "code",
   "execution_count": 24,
   "id": "1e051ae3",
   "metadata": {
    "scrolled": true
   },
   "outputs": [
    {
     "data": {
      "text/plain": [
       "<matplotlib.legend.Legend at 0x16ea820e810>"
      ]
     },
     "execution_count": 24,
     "metadata": {},
     "output_type": "execute_result"
    },
    {
     "data": {
      "image/png": "[encoded data removed]",
      "text/plain": [
       "<Figure size 1600x500 with 2 Axes>"
      ]
     },
     "metadata": {},
     "output_type": "display_data"
    }
   ],
   "source": [
    "import matplotlib.pyplot as plt\n",
    "fig,(ax1,ax2)=plt.subplots(nrows=1,ncols=2,figsize=(16,5))\n",
    "#plot training & validation accuracy values\n",
    "ax1.plot(result.history['accuracy'])\n",
    "ax1.plot(result.history['val_accuracy'])\n",
    "ax1.set_title('Model Performance')\n",
    "ax1.set_ylabel('accuracy')\n",
    "ax1.set_xlabel('Epochs')\n",
    "ax1.legend(['Train','Test'])\n",
    "#plot training & validation loss values\n",
    "ax2.plot(result.history['loss'])\n",
    "ax2.plot(result.history['val_loss'])\n",
    "ax2.set_title('Model Loss')\n",
    "ax2.set_ylabel('Loss')\n",
    "ax2.set_xlabel('Epochs')\n",
    "ax2.legend(['Train','Test'])"
   ]
  },
  {
   "cell_type": "code",
   "execution_count": 25,
   "id": "8f955d84",
   "metadata": {},
   "outputs": [
    {
     "name": "stdout",
     "output_type": "stream",
     "text": [
      "1/1 [==============================] - 0s 241ms/step\n"
     ]
    },
    {
     "data": {
      "text/plain": [
       "array([[1.3714804e-11, 8.9460358e-12, 7.8019760e-09, 4.3390432e-05,\n",
       "        1.2130119e-12, 7.1933529e-11, 8.5754047e-19, 9.9995542e-01,\n",
       "        1.3657212e-08, 1.2032489e-06],\n",
       "       [1.9134150e-08, 8.8679212e-07, 9.9999845e-01, 2.0156374e-08,\n",
       "        3.0841890e-13, 9.9617703e-10, 6.2090714e-07, 1.8031767e-12,\n",
       "        2.0092578e-08, 7.2027605e-12],\n",
       "       [2.0745397e-06, 9.9875927e-01, 2.0322252e-04, 2.1000238e-05,\n",
       "        3.7334039e-04, 4.2792704e-05, 2.9411740e-06, 2.6236294e-04,\n",
       "        3.2811638e-04, 4.8719544e-06],\n",
       "       [9.9995470e-01, 2.2002962e-11, 2.1584665e-06, 1.3896829e-07,\n",
       "        1.7532142e-07, 5.6100180e-07, 4.0520626e-05, 2.4176643e-07,\n",
       "        2.7299174e-07, 1.2304449e-06]], dtype=float32)"
      ]
     },
     "execution_count": 25,
     "metadata": {},
     "output_type": "execute_result"
    }
   ],
   "source": [
    "# predict first 4 images in the test set\n",
    "ypred=model.predict(xtest[:4])\n",
    "ypred"
   ]
  },
  {
   "cell_type": "code",
   "execution_count": 26,
   "id": "8c8db6dd",
   "metadata": {},
   "outputs": [
    {
     "data": {
      "text/plain": [
       "array([[0., 0., 0., 0., 0., 0., 0., 1., 0., 0.],\n",
       "       [0., 0., 1., 0., 0., 0., 0., 0., 0., 0.],\n",
       "       [0., 1., 0., 0., 0., 0., 0., 0., 0., 0.],\n",
       "       [1., 0., 0., 0., 0., 0., 0., 0., 0., 0.]], dtype=float32)"
      ]
     },
     "execution_count": 26,
     "metadata": {},
     "output_type": "execute_result"
    }
   ],
   "source": [
    "# actual results for first 4 images in test set\n",
    "ytest[:4]"
   ]
  },
  {
   "cell_type": "code",
   "execution_count": null,
   "id": "ee5c67f9",
   "metadata": {},
   "outputs": [],
   "source": []
  }
 ],
 "metadata": {
  "kernelspec": {
   "display_name": "Python 3 (ipykernel)",
   "language": "python",
   "name": "python3"
  },
  "language_info": {
   "codemirror_mode": {
    "name": "ipython",
    "version": 3
   },
   "file_extension": ".py",
   "mimetype": "text/x-python",
   "name": "python",
   "nbconvert_exporter": "python",
   "pygments_lexer": "ipython3",
   "version": "3.11.5"
  }
 },
 "nbformat": 4,
 "nbformat_minor": 5
}
