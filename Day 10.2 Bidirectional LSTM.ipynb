{
 "cells": [
  {
   "cell_type": "code",
   "execution_count": 10,
   "id": "e95983df",
   "metadata": {},
   "outputs": [],
   "source": [
    "from IPython.display import Image\n",
    "%matplotlib inline"
   ]
  },
  {
   "cell_type": "code",
   "execution_count": 11,
   "id": "8494b8f6",
   "metadata": {},
   "outputs": [
    {
     "data": {
      "image/jpeg": "[encoded data removed]",
      "text/plain": [
       "<IPython.core.display.Image object>"
      ]
     },
     "execution_count": 11,
     "metadata": {
      "image/jpeg": {
       "width": 400
      }
     },
     "output_type": "execute_result"
    }
   ],
   "source": [
    "Image(filename='Bidirectional LSTM.jpeg',width=400)"
   ]
  },
  {
   "cell_type": "code",
   "execution_count": 12,
   "id": "0908dee1",
   "metadata": {},
   "outputs": [
    {
     "name": "stdout",
     "output_type": "stream",
     "text": [
      "Input Sequence-x:\n",
      " [0.3977461  0.14425051 0.73496684 0.11428373 0.21354129 0.90332241\n",
      " 0.44694526 0.00423847 0.22173925 0.8140943 ]\n",
      "\n",
      "Output-y:\n",
      " [0 0 0 0 0 1 1 1 1 1]\n"
     ]
    }
   ],
   "source": [
    "from random import random\n",
    "from numpy import array\n",
    "from numpy import cumsum\n",
    "\n",
    "def get_sequence(n_timesteps):\n",
    "    x=array([random() for _ in range(n_timesteps)])\n",
    "    limit=n_timesteps/4.0\n",
    "    y=array([0 if x<limit else 1 for x in cumsum(x)])\n",
    " \n",
    "    return x,y\n",
    "x,y=get_sequence(10)\n",
    "print('Input Sequence-x:\\n',x)\n",
    "print()\n",
    "print('Output-y:\\n',y)"
   ]
  },
  {
   "cell_type": "code",
   "execution_count": 13,
   "id": "6300f639",
   "metadata": {},
   "outputs": [],
   "source": [
    "#Generate Multiple Sequences\n",
    "def get_sequences(n_sequences,n_timesteps):\n",
    "    seq_x,seq_y=list(),list()\n",
    "\n",
    "    for _ in range(n_sequences):\n",
    "        x,y=get_sequence(n_timesteps)\n",
    "        seq_x.append(x)\n",
    "        seq_y.append(y)\n",
    " \n",
    "    seq_x=array(seq_x).reshape(n_sequences,n_timesteps,1)\n",
    "    seq_y=array(seq_y).reshape(n_sequences,n_timesteps,1)\n",
    "    return seq_x,seq_y\n",
    "    "
   ]
  },
  {
   "cell_type": "code",
   "execution_count": 14,
   "id": "86732205",
   "metadata": {},
   "outputs": [
    {
     "data": {
      "text/plain": [
       "(array([[[0.33629751],\n",
       "         [0.6401873 ],\n",
       "         [0.691292  ],\n",
       "         [0.82133584],\n",
       "         [0.00259262],\n",
       "         [0.34179944],\n",
       "         [0.54769343],\n",
       "         [0.09053592],\n",
       "         [0.57125035],\n",
       "         [0.79946936]],\n",
       " \n",
       "        [[0.4268812 ],\n",
       "         [0.33505835],\n",
       "         [0.55875417],\n",
       "         [0.1318395 ],\n",
       "         [0.26410389],\n",
       "         [0.00594484],\n",
       "         [0.12958631],\n",
       "         [0.98467267],\n",
       "         [0.09435486],\n",
       "         [0.57334566]]]),\n",
       " array([[[0],\n",
       "         [0],\n",
       "         [0],\n",
       "         [0],\n",
       "         [0],\n",
       "         [1],\n",
       "         [1],\n",
       "         [1],\n",
       "         [1],\n",
       "         [1]],\n",
       " \n",
       "        [[0],\n",
       "         [0],\n",
       "         [0],\n",
       "         [0],\n",
       "         [0],\n",
       "         [0],\n",
       "         [0],\n",
       "         [1],\n",
       "         [1],\n",
       "         [1]]]))"
      ]
     },
     "execution_count": 14,
     "metadata": {},
     "output_type": "execute_result"
    }
   ],
   "source": [
    "get_sequences(2,10)"
   ]
  },
  {
   "cell_type": "markdown",
   "id": "a4d09843",
   "metadata": {},
   "source": [
    "# Build a Bidirectional model"
   ]
  },
  {
   "cell_type": "code",
   "execution_count": 17,
   "id": "0079e922",
   "metadata": {},
   "outputs": [
    {
     "name": "stdout",
     "output_type": "stream",
     "text": [
      "Model: \"sequential_3\"\n",
      "_________________________________________________________________\n",
      " Layer (type)                Output Shape              Param #   \n",
      "=================================================================\n",
      " bidirectional (Bidirection  (None, 10, 100)           20800     \n",
      " al)                                                             \n",
      "                                                                 \n",
      " time_distributed (TimeDist  (None, 10, 1)             101       \n",
      " ributed)                                                        \n",
      "                                                                 \n",
      "=================================================================\n",
      "Total params: 20901 (81.64 KB)\n",
      "Trainable params: 20901 (81.64 KB)\n",
      "Non-trainable params: 0 (0.00 Byte)\n",
      "_________________________________________________________________\n",
      "None\n"
     ]
    }
   ],
   "source": [
    "from keras.models import Sequential\n",
    "from keras.layers import Bidirectional\n",
    "from keras.layers import TimeDistributed\n",
    "from keras.layers import Dense,LSTM\n",
    "\n",
    "n_timesteps=10\n",
    "model=Sequential()\n",
    "\n",
    "#bidirectional layer\n",
    "model.add(Bidirectional(LSTM(50,return_sequences=True),input_shape=(n_timesteps,1)))\n",
    "#Output layer - time distributed layer\n",
    "model.add(TimeDistributed(Dense(1,activation='sigmoid')))\n",
    "#compile the model\n",
    "model.compile(optimizer='adam',loss='binary_crossentropy',metrics=['accuracy'])\n",
    "print(model.summary())"
   ]
  },
  {
   "cell_type": "code",
   "execution_count": 18,
   "id": "48aec538",
   "metadata": {},
   "outputs": [
    {
     "name": "stdout",
     "output_type": "stream",
     "text": [
      "Epoch 1/10\n",
      "5000/5000 [==============================] - 34s 6ms/step - loss: 0.0512 - accuracy: 0.9819\n",
      "Epoch 2/10\n",
      "5000/5000 [==============================] - 30s 6ms/step - loss: 0.0206 - accuracy: 0.9927\n",
      "Epoch 3/10\n",
      "5000/5000 [==============================] - 31s 6ms/step - loss: 0.0164 - accuracy: 0.9940\n",
      "Epoch 4/10\n",
      "5000/5000 [==============================] - 30s 6ms/step - loss: 0.0141 - accuracy: 0.9947\n",
      "Epoch 5/10\n",
      "5000/5000 [==============================] - 31s 6ms/step - loss: 0.0128 - accuracy: 0.9951\n",
      "Epoch 6/10\n",
      "5000/5000 [==============================] - 30s 6ms/step - loss: 0.0122 - accuracy: 0.9952\n",
      "Epoch 7/10\n",
      "5000/5000 [==============================] - 33s 7ms/step - loss: 0.0115 - accuracy: 0.9954\n",
      "Epoch 8/10\n",
      "5000/5000 [==============================] - 30s 6ms/step - loss: 0.0111 - accuracy: 0.9956\n",
      "Epoch 9/10\n",
      "5000/5000 [==============================] - 30s 6ms/step - loss: 0.0103 - accuracy: 0.9959\n",
      "Epoch 10/10\n",
      "5000/5000 [==============================] - 30s 6ms/step - loss: 0.0099 - accuracy: 0.9960\n"
     ]
    },
    {
     "data": {
      "text/plain": [
       "<keras.src.callbacks.History at 0x1acf2eda290>"
      ]
     },
     "execution_count": 18,
     "metadata": {},
     "output_type": "execute_result"
    }
   ],
   "source": [
    "#train the model\n",
    "x,y=get_sequences(50000,n_timesteps)\n",
    "model.fit(x,y,epochs=10,batch_size=10)"
   ]
  },
  {
   "cell_type": "code",
   "execution_count": 19,
   "id": "1b10549f",
   "metadata": {},
   "outputs": [
    {
     "name": "stdout",
     "output_type": "stream",
     "text": [
      "4/4 [==============================] - 1s 4ms/step - loss: 0.0116 - accuracy: 0.9950\n",
      "\n",
      "Loss: 0.011624, Accuracy: 99.500000\n"
     ]
    }
   ],
   "source": [
    "#Evaluate the model\n",
    "x,y=get_sequences(100,n_timesteps)\n",
    "loss,acc=model.evaluate(x,y,verbose=1)\n",
    "print()\n",
    "print('Loss: %f, Accuracy: %f'%(loss,acc*100))"
   ]
  },
  {
   "cell_type": "code",
   "execution_count": 20,
   "id": "83949978",
   "metadata": {},
   "outputs": [
    {
     "name": "stdout",
     "output_type": "stream",
     "text": [
      "y=[0 0 0 1 1 1 1 1 1 1], yhat=[1.05736815e-10 1.66655071e-14 1.67534591e-08 1.00000000e+00\n",
      " 1.00000000e+00 1.00000000e+00 1.00000000e+00 1.00000000e+00\n",
      " 1.00000000e+00 1.00000000e+00],correct=False\n",
      "y=[0 0 0 0 1 1 1 1 1 1], yhat=[1.4106390e-13 3.3131072e-13 1.0000799e-08 8.6641821e-06 1.0000000e+00\n",
      " 1.0000000e+00 1.0000000e+00 1.0000000e+00 1.0000000e+00 1.0000000e+00],correct=False\n",
      "y=[0 0 0 0 0 1 1 1 1 1], yhat=[3.5932811e-12 2.3278208e-15 9.2011622e-15 3.4023805e-16 3.0227917e-05\n",
      " 9.9999982e-01 1.0000000e+00 1.0000000e+00 1.0000000e+00 1.0000000e+00],correct=False\n",
      "y=[0 0 0 0 0 1 1 1 1 1], yhat=[1.8689491e-14 4.1141489e-16 6.0005892e-17 2.6144520e-10 2.7325356e-07\n",
      " 9.9972576e-01 9.9999982e-01 1.0000000e+00 1.0000000e+00 1.0000000e+00],correct=False\n",
      "y=[0 0 0 0 0 0 1 1 1 1], yhat=[1.2824969e-13 5.4146374e-15 3.6433373e-15 3.0113969e-14 3.5203875e-16\n",
      " 3.1088629e-10 1.0000000e+00 1.0000000e+00 1.0000000e+00 1.0000000e+00],correct=False\n",
      "y=[0 0 0 0 1 1 1 1 1 1], yhat=[8.7782759e-10 7.3615981e-11 1.5192198e-09 3.1370686e-09 1.0000000e+00\n",
      " 1.0000000e+00 1.0000000e+00 1.0000000e+00 1.0000000e+00 1.0000000e+00],correct=False\n",
      "y=[0 0 0 1 1 1 1 1 1 1], yhat=[7.3988904e-10 1.2136250e-06 1.3761762e-02 8.0706608e-01 9.9999994e-01\n",
      " 1.0000000e+00 1.0000000e+00 1.0000000e+00 1.0000000e+00 1.0000000e+00],correct=False\n",
      "y=[0 0 0 1 1 1 1 1 1 1], yhat=[2.8806130e-10 2.7880906e-10 5.4100219e-08 9.9999648e-01 9.9999875e-01\n",
      " 1.0000000e+00 1.0000000e+00 1.0000000e+00 1.0000000e+00 1.0000000e+00],correct=False\n",
      "y=[0 0 0 0 0 0 1 1 1 1], yhat=[3.0854971e-15 1.7392390e-15 3.4751176e-15 8.5405697e-17 6.3716429e-06\n",
      " 1.3934486e-02 9.9999988e-01 1.0000000e+00 1.0000000e+00 1.0000000e+00],correct=False\n",
      "y=[0 0 0 0 0 0 1 1 1 1], yhat=[4.2352504e-13 3.1613936e-14 5.8200126e-16 1.8991820e-13 9.6554980e-17\n",
      " 2.2613129e-02 1.0000000e+00 1.0000000e+00 1.0000000e+00 1.0000000e+00],correct=False\n"
     ]
    }
   ],
   "source": [
    "# Make prediction\n",
    "import numpy as np\n",
    "\n",
    "for _ in range(10):\n",
    "    x,y=get_sequences(1,n_timesteps)\n",
    "    yhat=model.predict(x,verbose=0)\n",
    "    exp,pred=y.reshape(n_timesteps),yhat.reshape(n_timesteps)\n",
    "\n",
    "    print('y=%s, yhat=%s,correct=%s' % (exp,pred,np.array_equal(exp,pred)))"
   ]
  },
  {
   "cell_type": "code",
   "execution_count": 21,
   "id": "a96d0ad0",
   "metadata": {},
   "outputs": [
    {
     "name": "stdout",
     "output_type": "stream",
     "text": [
      "5000/5000 [==============================] - 30s 6ms/step - loss: 0.0096 - accuracy: 0.9962\n"
     ]
    },
    {
     "data": {
      "text/plain": [
       "<keras.src.callbacks.History at 0x1acf6d970d0>"
      ]
     },
     "execution_count": 21,
     "metadata": {},
     "output_type": "execute_result"
    }
   ],
   "source": [
    "#train the model\n",
    "x,y=get_sequences(50000,n_timesteps)\n",
    "\n",
    "model.fit(x,y,epochs=1,batch_size=10)"
   ]
  },
  {
   "cell_type": "code",
   "execution_count": 22,
   "id": "ba9f603c",
   "metadata": {},
   "outputs": [
    {
     "name": "stdout",
     "output_type": "stream",
     "text": [
      "y=[0 0 0 0 1 1 1 1 1 1], ypred=[8.0290406e-15 3.4508355e-16 4.9484332e-16 4.7498196e-09 1.0000000e+00\n",
      " 1.0000000e+00 1.0000000e+00 1.0000000e+00 1.0000000e+00 1.0000000e+00],correct=False\n",
      "y=[0 0 0 0 0 0 0 1 1 1], ypred=[1.2805914e-15 6.1416003e-17 1.3704814e-16 8.8073381e-14 9.7293021e-16\n",
      " 3.9254366e-03 4.0979832e-04 9.9993932e-01 1.0000000e+00 1.0000000e+00],correct=False\n",
      "y=[0 0 0 0 0 1 1 1 1 1], ypred=[1.9619487e-16 2.8697842e-16 6.6566350e-16 1.0422433e-09 1.8220050e-11\n",
      " 9.9667484e-01 1.0000000e+00 1.0000000e+00 1.0000000e+00 1.0000000e+00],correct=False\n",
      "y=[0 0 0 0 0 1 1 1 1 1], ypred=[1.83451165e-09 2.38126965e-15 1.42037405e-14 2.55188119e-04\n",
      " 6.00689789e-03 9.99241233e-01 9.99794185e-01 1.00000000e+00\n",
      " 1.00000000e+00 1.00000000e+00],correct=False\n",
      "y=[0 0 0 0 1 1 1 1 1 1], ypred=[4.1614037e-10 7.3938489e-15 6.0345372e-14 6.2069752e-08 1.0000000e+00\n",
      " 1.0000000e+00 1.0000000e+00 1.0000000e+00 1.0000000e+00 1.0000000e+00],correct=False\n",
      "y=[0 0 0 1 1 1 1 1 1 1], ypred=[2.4101505e-13 2.8099639e-13 6.6172688e-05 1.0000000e+00 1.0000000e+00\n",
      " 1.0000000e+00 1.0000000e+00 1.0000000e+00 1.0000000e+00 1.0000000e+00],correct=False\n",
      "y=[0 0 0 0 1 1 1 1 1 1], ypred=[1.1697291e-12 6.9586914e-14 3.6269470e-11 2.3099811e-13 9.9999875e-01\n",
      " 1.0000000e+00 1.0000000e+00 1.0000000e+00 1.0000000e+00 1.0000000e+00],correct=False\n",
      "y=[0 0 0 0 1 1 1 1 1 1], ypred=[7.7704103e-16 5.3974108e-14 7.2560701e-11 7.4630818e-10 9.9999988e-01\n",
      " 1.0000000e+00 1.0000000e+00 1.0000000e+00 1.0000000e+00 1.0000000e+00],correct=False\n",
      "y=[0 0 0 0 0 0 1 1 1 1], ypred=[1.2462588e-15 1.0297211e-10 5.4282665e-15 5.6668496e-17 6.0077184e-15\n",
      " 9.1059273e-03 1.0000000e+00 1.0000000e+00 1.0000000e+00 1.0000000e+00],correct=False\n",
      "y=[0 0 0 0 1 1 1 1 1 1], ypred=[5.5198259e-17 1.4098428e-13 6.7636496e-10 1.7723033e-13 9.9998790e-01\n",
      " 1.0000000e+00 1.0000000e+00 1.0000000e+00 1.0000000e+00 1.0000000e+00],correct=False\n"
     ]
    }
   ],
   "source": [
    "# Make prediction\n",
    "import numpy as np\n",
    "\n",
    "\n",
    "for _ in range(10):\n",
    "    x,y=get_sequences(1,n_timesteps)\n",
    "    ypred=model.predict(x,verbose=0)\n",
    "    actual,pred=y.reshape(n_timesteps),ypred.reshape(n_timesteps)\n",
    "\n",
    "    print('y=%s, ypred=%s,correct=%s' % (actual,pred,np.array_equal(actual,ypred)))"
   ]
  },
  {
   "cell_type": "code",
   "execution_count": 23,
   "id": "b1317e2c",
   "metadata": {},
   "outputs": [
    {
     "name": "stdout",
     "output_type": "stream",
     "text": [
      "5000/5000 [==============================] - 30s 6ms/step - loss: 0.0090 - accuracy: 0.9964\n"
     ]
    },
    {
     "data": {
      "text/plain": [
       "<keras.src.callbacks.History at 0x1acfd915910>"
      ]
     },
     "execution_count": 23,
     "metadata": {},
     "output_type": "execute_result"
    }
   ],
   "source": [
    "#train the model\n",
    "x,y=get_sequences(50000,n_timesteps)\n",
    "\n",
    "model.fit(x,y,epochs=1,batch_size=10)\n"
   ]
  },
  {
   "cell_type": "code",
   "execution_count": 24,
   "id": "a6e77241",
   "metadata": {},
   "outputs": [
    {
     "name": "stdout",
     "output_type": "stream",
     "text": [
      "y=[0 0 0 0 0 0 1 1 1 1], ypred=[2.07579006e-17 5.22042975e-16 5.11928722e-14 6.47856961e-15\n",
      " 1.07446884e-16 3.05739808e-13 9.99999881e-01 1.00000000e+00\n",
      " 1.00000000e+00 1.00000000e+00],correct=False\n",
      "y=[0 0 0 1 1 1 1 1 1 1], ypred=[1.0251741e-11 8.1295290e-11 2.5026142e-04 1.0000000e+00 1.0000000e+00\n",
      " 1.0000000e+00 1.0000000e+00 1.0000000e+00 1.0000000e+00 1.0000000e+00],correct=False\n",
      "y=[0 0 0 0 0 1 1 1 1 1], ypred=[1.7567636e-14 9.4579233e-15 8.3428232e-17 8.5678969e-10 7.8681587e-05\n",
      " 1.0000000e+00 1.0000000e+00 1.0000000e+00 1.0000000e+00 1.0000000e+00],correct=False\n",
      "y=[0 0 0 1 1 1 1 1 1 1], ypred=[1.9675418e-14 1.1069505e-10 2.0231376e-10 9.9999923e-01 1.0000000e+00\n",
      " 1.0000000e+00 1.0000000e+00 1.0000000e+00 1.0000000e+00 1.0000000e+00],correct=False\n",
      "y=[0 0 0 0 1 1 1 1 1 1], ypred=[3.0006053e-11 7.0371636e-17 2.7025148e-11 5.9368294e-06 1.0000000e+00\n",
      " 1.0000000e+00 1.0000000e+00 1.0000000e+00 1.0000000e+00 1.0000000e+00],correct=False\n",
      "y=[0 0 0 0 1 1 1 1 1 1], ypred=[7.0030337e-13 7.4011509e-17 5.5271878e-14 7.3961743e-08 8.4216052e-01\n",
      " 1.0000000e+00 1.0000000e+00 1.0000000e+00 1.0000000e+00 1.0000000e+00],correct=False\n",
      "y=[0 0 0 0 0 1 1 1 1 1], ypred=[1.0301103e-17 7.1044640e-16 4.0847161e-17 1.4352178e-15 5.4090541e-11\n",
      " 9.9999547e-01 1.0000000e+00 1.0000000e+00 1.0000000e+00 1.0000000e+00],correct=False\n",
      "y=[0 0 0 0 1 1 1 1 1 1], ypred=[9.68012909e-18 1.58436937e-14 1.45152675e-11 1.98732927e-01\n",
      " 1.00000000e+00 1.00000000e+00 1.00000000e+00 1.00000000e+00\n",
      " 1.00000000e+00 1.00000000e+00],correct=False\n",
      "y=[0 0 0 1 1 1 1 1 1 1], ypred=[1.6363608e-09 1.2178219e-14 6.2600139e-07 1.0000000e+00 1.0000000e+00\n",
      " 1.0000000e+00 1.0000000e+00 1.0000000e+00 1.0000000e+00 1.0000000e+00],correct=False\n",
      "y=[0 0 0 1 1 1 1 1 1 1], ypred=[1.6807712e-15 4.7857709e-15 1.0983461e-11 6.4412796e-01 1.0000000e+00\n",
      " 1.0000000e+00 1.0000000e+00 1.0000000e+00 1.0000000e+00 1.0000000e+00],correct=False\n"
     ]
    }
   ],
   "source": [
    "# Make prediction\n",
    "import numpy as np\n",
    "\n",
    "for _ in range(10):\n",
    "    x,y=get_sequences(1,n_timesteps)\n",
    "    ypred=model.predict(x,verbose=0)\n",
    "    actual,pred=y.reshape(n_timesteps),ypred.reshape(n_timesteps)\n",
    "\n",
    "    print('y=%s, ypred=%s,correct=%s' % (actual,pred,np.array_equal(actual,ypred)))"
   ]
  },
  {
   "cell_type": "code",
   "execution_count": null,
   "id": "90c5681f",
   "metadata": {},
   "outputs": [],
   "source": []
  }
 ],
 "metadata": {
  "kernelspec": {
   "display_name": "Python 3 (ipykernel)",
   "language": "python",
   "name": "python3"
  },
  "language_info": {
   "codemirror_mode": {
    "name": "ipython",
    "version": 3
   },
   "file_extension": ".py",
   "mimetype": "text/x-python",
   "name": "python",
   "nbconvert_exporter": "python",
   "pygments_lexer": "ipython3",
   "version": "3.11.5"
  }
 },
 "nbformat": 4,
 "nbformat_minor": 5
}
