{
 "cells": [
  {
   "cell_type": "code",
   "execution_count": 1,
   "id": "673f0248",
   "metadata": {},
   "outputs": [],
   "source": [
    "from keras.datasets import mnist\n",
    "from keras.models import Sequential\n",
    "from keras.layers import Dense,Dropout\n",
    "from keras.optimizers import RMSprop"
   ]
  },
  {
   "cell_type": "code",
   "execution_count": 2,
   "id": "eac9b257",
   "metadata": {},
   "outputs": [],
   "source": [
    "batch_size=128\n",
    "num_classes=10\n",
    "epochs=20"
   ]
  },
  {
   "cell_type": "code",
   "execution_count": 3,
   "id": "3fe51543",
   "metadata": {},
   "outputs": [
    {
     "name": "stdout",
     "output_type": "stream",
     "text": [
      "Shape-x:\t (60000, 28, 28)\n",
      "Shape-y:\t (60000,)\n"
     ]
    }
   ],
   "source": [
    "(xtrain,ytrain),(xtest,ytest)=mnist.load_data()\n",
    "print('Shape-x:\\t',xtrain.shape)\n",
    "print('Shape-y:\\t',ytrain.shape)"
   ]
  },
  {
   "cell_type": "code",
   "execution_count": 4,
   "id": "7a0f8ed3",
   "metadata": {},
   "outputs": [
    {
     "name": "stdout",
     "output_type": "stream",
     "text": [
      "Shape-x-train:\t (60000, 784)\n",
      "Shape-x-Test:\t (10000, 784)\n"
     ]
    }
   ],
   "source": [
    "xtrain=xtrain.reshape(60000,784)\n",
    "xtest=xtest.reshape(10000,784)\n",
    "print('Shape-x-train:\\t',xtrain.shape)\n",
    "print('Shape-x-Test:\\t',xtest.shape)"
   ]
  },
  {
   "cell_type": "code",
   "execution_count": 5,
   "id": "11c87edc",
   "metadata": {},
   "outputs": [],
   "source": [
    "xtrain=xtrain.astype('float32')\n",
    "xtest=xtest.astype('float32')"
   ]
  },
  {
   "cell_type": "code",
   "execution_count": 6,
   "id": "c4ad5a07",
   "metadata": {},
   "outputs": [],
   "source": [
    "xtrain=xtrain/255\n",
    "xtest=xtest/255"
   ]
  },
  {
   "cell_type": "markdown",
   "id": "9170610b",
   "metadata": {},
   "source": [
    "# Print the shape of data"
   ]
  },
  {
   "cell_type": "code",
   "execution_count": 7,
   "id": "d15a0cf5",
   "metadata": {},
   "outputs": [
    {
     "name": "stdout",
     "output_type": "stream",
     "text": [
      "60000 train samples\n",
      "10000 test samples\n"
     ]
    }
   ],
   "source": [
    "print(xtrain.shape[0],'train samples')\n",
    "print(xtest.shape[0],'test samples')"
   ]
  },
  {
   "cell_type": "markdown",
   "id": "8d80bcd6",
   "metadata": {},
   "source": [
    "# Convert class vectors to binary class matrices"
   ]
  },
  {
   "cell_type": "code",
   "execution_count": 8,
   "id": "c19ffb3f",
   "metadata": {},
   "outputs": [],
   "source": [
    "import keras\n",
    "ytrain=keras.utils.to_categorical(ytrain,num_classes)\n",
    "ytest=keras.utils.to_categorical(ytest,num_classes)"
   ]
  },
  {
   "cell_type": "code",
   "execution_count": 9,
   "id": "253e64fd",
   "metadata": {},
   "outputs": [
    {
     "data": {
      "text/plain": [
       "(60000, 10)"
      ]
     },
     "execution_count": 9,
     "metadata": {},
     "output_type": "execute_result"
    }
   ],
   "source": [
    "ytrain.shape"
   ]
  },
  {
   "cell_type": "markdown",
   "id": "7542c22e",
   "metadata": {},
   "source": [
    "# Sequential Model"
   ]
  },
  {
   "cell_type": "code",
   "execution_count": 10,
   "id": "6cb73795",
   "metadata": {},
   "outputs": [
    {
     "name": "stdout",
     "output_type": "stream",
     "text": [
      "Model: \"sequential\"\n",
      "_________________________________________________________________\n",
      " Layer (type)                Output Shape              Param #   \n",
      "=================================================================\n",
      " dense (Dense)               (None, 512)               401920    \n",
      "                                                                 \n",
      " dense_1 (Dense)             (None, 512)               262656    \n",
      "                                                                 \n",
      " dense_2 (Dense)             (None, 10)                5130      \n",
      "                                                                 \n",
      "=================================================================\n",
      "Total params: 669706 (2.55 MB)\n",
      "Trainable params: 669706 (2.55 MB)\n",
      "Non-trainable params: 0 (0.00 Byte)\n",
      "_________________________________________________________________\n"
     ]
    }
   ],
   "source": [
    "model=Sequential()\n",
    "model.add(Dense(512,activation='relu',input_shape=(784,)))\n",
    "model.add(Dense(512,activation='relu'))\n",
    "model.add(Dense(num_classes,activation='softmax'))\n",
    "model.summary()"
   ]
  },
  {
   "cell_type": "markdown",
   "id": "79c2ec59",
   "metadata": {},
   "source": [
    "# Compile the model"
   ]
  },
  {
   "cell_type": "code",
   "execution_count": 11,
   "id": "0c804ea0",
   "metadata": {},
   "outputs": [],
   "source": [
    "model.compile(loss='categorical_crossentropy',optimizer=RMSprop(),metrics=['accuracy'])"
   ]
  },
  {
   "cell_type": "markdown",
   "id": "7f9b178f",
   "metadata": {},
   "source": [
    "# Fit the model"
   ]
  },
  {
   "cell_type": "code",
   "execution_count": 12,
   "id": "83c7f68d",
   "metadata": {},
   "outputs": [
    {
     "name": "stdout",
     "output_type": "stream",
     "text": [
      "Epoch 1/20\n",
      "469/469 - 9s - loss: 0.2324 - accuracy: 0.9287 - val_loss: 0.1519 - val_accuracy: 0.9512 - 9s/epoch - 18ms/step\n",
      "Epoch 2/20\n",
      "469/469 - 6s - loss: 0.0844 - accuracy: 0.9739 - val_loss: 0.0777 - val_accuracy: 0.9756 - 6s/epoch - 12ms/step\n",
      "Epoch 3/20\n",
      "469/469 - 6s - loss: 0.0547 - accuracy: 0.9828 - val_loss: 0.0688 - val_accuracy: 0.9788 - 6s/epoch - 12ms/step\n",
      "Epoch 4/20\n",
      "469/469 - 6s - loss: 0.0381 - accuracy: 0.9875 - val_loss: 0.0713 - val_accuracy: 0.9797 - 6s/epoch - 12ms/step\n",
      "Epoch 5/20\n",
      "469/469 - 5s - loss: 0.0272 - accuracy: 0.9914 - val_loss: 0.0901 - val_accuracy: 0.9747 - 5s/epoch - 11ms/step\n",
      "Epoch 6/20\n",
      "469/469 - 6s - loss: 0.0190 - accuracy: 0.9937 - val_loss: 0.0908 - val_accuracy: 0.9764 - 6s/epoch - 13ms/step\n",
      "Epoch 7/20\n",
      "469/469 - 6s - loss: 0.0157 - accuracy: 0.9948 - val_loss: 0.0791 - val_accuracy: 0.9810 - 6s/epoch - 12ms/step\n",
      "Epoch 8/20\n",
      "469/469 - 6s - loss: 0.0108 - accuracy: 0.9966 - val_loss: 0.0763 - val_accuracy: 0.9826 - 6s/epoch - 12ms/step\n",
      "Epoch 9/20\n",
      "469/469 - 6s - loss: 0.0087 - accuracy: 0.9972 - val_loss: 0.0805 - val_accuracy: 0.9820 - 6s/epoch - 12ms/step\n",
      "Epoch 10/20\n",
      "469/469 - 6s - loss: 0.0075 - accuracy: 0.9977 - val_loss: 0.0797 - val_accuracy: 0.9826 - 6s/epoch - 12ms/step\n",
      "Epoch 11/20\n",
      "469/469 - 6s - loss: 0.0059 - accuracy: 0.9979 - val_loss: 0.0773 - val_accuracy: 0.9839 - 6s/epoch - 13ms/step\n",
      "Epoch 12/20\n",
      "469/469 - 6s - loss: 0.0030 - accuracy: 0.9991 - val_loss: 0.0767 - val_accuracy: 0.9853 - 6s/epoch - 12ms/step\n",
      "Epoch 13/20\n",
      "469/469 - 6s - loss: 0.0032 - accuracy: 0.9990 - val_loss: 0.1112 - val_accuracy: 0.9797 - 6s/epoch - 12ms/step\n",
      "Epoch 14/20\n",
      "469/469 - 6s - loss: 0.0036 - accuracy: 0.9990 - val_loss: 0.0836 - val_accuracy: 0.9850 - 6s/epoch - 12ms/step\n",
      "Epoch 15/20\n",
      "469/469 - 6s - loss: 0.0015 - accuracy: 0.9996 - val_loss: 0.0883 - val_accuracy: 0.9845 - 6s/epoch - 12ms/step\n",
      "Epoch 16/20\n",
      "469/469 - 6s - loss: 7.9126e-04 - accuracy: 0.9998 - val_loss: 0.0890 - val_accuracy: 0.9847 - 6s/epoch - 12ms/step\n",
      "Epoch 17/20\n",
      "469/469 - 6s - loss: 3.6915e-04 - accuracy: 0.9999 - val_loss: 0.0881 - val_accuracy: 0.9845 - 6s/epoch - 12ms/step\n",
      "Epoch 18/20\n",
      "469/469 - 6s - loss: 1.3731e-04 - accuracy: 0.9999 - val_loss: 0.0843 - val_accuracy: 0.9861 - 6s/epoch - 12ms/step\n",
      "Epoch 19/20\n",
      "469/469 - 6s - loss: 2.3025e-05 - accuracy: 1.0000 - val_loss: 0.0846 - val_accuracy: 0.9857 - 6s/epoch - 12ms/step\n",
      "Epoch 20/20\n",
      "469/469 - 6s - loss: 1.2497e-05 - accuracy: 1.0000 - val_loss: 0.0855 - val_accuracy: 0.9856 - 6s/epoch - 12ms/step\n",
      "313/313 [==============================] - 1s 4ms/step - loss: 0.0855 - accuracy: 0.9856\n"
     ]
    }
   ],
   "source": [
    "histroy=model.fit(xtrain,ytrain,batch_size=batch_size,epochs=epochs,verbose=2,validation_data=(xtest,ytest))\n",
    "score=model.evaluate(xtest,ytest,verbose=1)"
   ]
  },
  {
   "cell_type": "code",
   "execution_count": 13,
   "id": "453488a4",
   "metadata": {},
   "outputs": [
    {
     "name": "stdout",
     "output_type": "stream",
     "text": [
      "Test Loss:\t 0.08546044677495956\n",
      "Test Accuracy:\t 0.9855999946594238\n"
     ]
    }
   ],
   "source": [
    "print('Test Loss:\\t',score[0])\n",
    "print('Test Accuracy:\\t',score[1])"
   ]
  },
  {
   "cell_type": "code",
   "execution_count": null,
   "id": "4e255afc",
   "metadata": {},
   "outputs": [],
   "source": []
  }
 ],
 "metadata": {
  "kernelspec": {
   "display_name": "Python 3 (ipykernel)",
   "language": "python",
   "name": "python3"
  },
  "language_info": {
   "codemirror_mode": {
    "name": "ipython",
    "version": 3
   },
   "file_extension": ".py",
   "mimetype": "text/x-python",
   "name": "python",
   "nbconvert_exporter": "python",
   "pygments_lexer": "ipython3",
   "version": "3.11.5"
  }
 },
 "nbformat": 4,
 "nbformat_minor": 5
}
